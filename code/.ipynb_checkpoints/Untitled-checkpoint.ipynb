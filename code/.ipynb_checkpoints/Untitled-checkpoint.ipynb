{
 "cells": [
  {
   "cell_type": "markdown",
   "id": "432e01ae",
   "metadata": {},
   "source": [
    "<img src=\"http://imgur.com/1ZcRyrc.png\" style=\"float: left; margin: 20px; height: 55px\">\n",
    "\n",
    "# Capstone Project: Classification & Detection of Singapore Road Traffic Signs\n",
    "\n"
   ]
  },
  {
   "cell_type": "markdown",
   "id": "aa233100",
   "metadata": {},
   "source": [
    "## Overview"
   ]
  },
  {
   "cell_type": "markdown",
   "id": "04905e30",
   "metadata": {},
   "source": [
    "Self-driving cars, also known as autonomous vehicles, have been one of the key innovations that is brought about by accelerating adoption of artificial intelligence and robotics.\n",
    "\n",
    "Not only is an AV expected to transport people and goods efficiently and safely from point-to-point, but it must also comply with existing road regulations as what is expected of human drivers. One of the primary indicators of road regulations would be traffic signs."
   ]
  },
  {
   "cell_type": "markdown",
   "id": "6ca06441",
   "metadata": {},
   "source": [
    "## Problem Statement"
   ]
  },
  {
   "cell_type": "markdown",
   "id": "9b823ade",
   "metadata": {},
   "source": [
    "This project is focused on the development of both a classification and object detection model using Neural Network to recognise road traffic signs in Singapore. \n",
    "\n",
    "Potential audience will be automobile companies looking to manufacture autonomous vehicles."
   ]
  },
  {
   "cell_type": "markdown",
   "id": "cf072b2e",
   "metadata": {},
   "source": [
    "## Datasets\n",
    "\n",
    "- Dash-cam footage frames as a primary source of data for model training\n"
   ]
  },
  {
   "cell_type": "markdown",
   "id": "b56c8341",
   "metadata": {},
   "source": [
    "## Model"
   ]
  },
  {
   "cell_type": "markdown",
   "id": "b0517053",
   "metadata": {},
   "source": [
    "- Yolo v5 Algorithm"
   ]
  },
  {
   "cell_type": "code",
   "execution_count": null,
   "id": "99619577",
   "metadata": {},
   "outputs": [],
   "source": []
  }
 ],
 "metadata": {
  "kernelspec": {
   "display_name": "Python 3 (ipykernel)",
   "language": "python",
   "name": "python3"
  },
  "language_info": {
   "codemirror_mode": {
    "name": "ipython",
    "version": 3
   },
   "file_extension": ".py",
   "mimetype": "text/x-python",
   "name": "python",
   "nbconvert_exporter": "python",
   "pygments_lexer": "ipython3",
   "version": "3.9.13"
  }
 },
 "nbformat": 4,
 "nbformat_minor": 5
}
